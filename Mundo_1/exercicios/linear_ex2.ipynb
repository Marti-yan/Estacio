{
  "nbformat": 4,
  "nbformat_minor": 0,
  "metadata": {
    "colab": {
      "provenance": []
    },
    "kernelspec": {
      "name": "python3",
      "display_name": "Python 3"
    },
    "language_info": {
      "name": "python"
    }
  },
  "cells": [
    {
      "cell_type": "code",
      "execution_count": 2,
      "metadata": {
        "colab": {
          "base_uri": "https://localhost:8080/"
        },
        "id": "8IjB-70C58hY",
        "outputId": "6e0db1e2-72bd-42fe-e344-6a97e3915a15"
      },
      "outputs": [
        {
          "output_type": "stream",
          "name": "stdout",
          "text": [
            "Shape dos dados de imagens:(1797, 64)\n",
            "Shape dos dados rotulados: (1797,)\n"
          ]
        }
      ],
      "source": [
        "from sklearn.datasets import load_digits\n",
        "digitos = load_digits()\n",
        "\n",
        "print(\"Shape dos dados de imagens:{}\".format(digitos.data.shape))\n",
        "print(\"Shape dos dados rotulados: {}\".format(digitos.target.shape))"
      ]
    },
    {
      "cell_type": "code",
      "source": [
        "import numpy as np\n",
        "import matplotlib.pyplot as plt\n",
        "\n",
        "plt.figure(figsize=(14,4))\n",
        "for index, (imagem, rotulo) in enumerate(zip(digitos.data[0:5], digitos.target[0:5])):\n",
        "  plt.subplot(1,5,index+1)\n",
        "  plt.imshow(np.reshape(imagem,(8,8)),cmap=plt.cm.gray)\n",
        "  plt.title(\"Treinamento: {}\\n\".format(rotulo,fontsize = 15))"
      ],
      "metadata": {
        "colab": {
          "base_uri": "https://localhost:8080/",
          "height": 214
        },
        "id": "GA9XmSQQ7joE",
        "outputId": "2ab946b7-92fc-476b-f50a-39651fb8e360"
      },
      "execution_count": 4,
      "outputs": [
        {
          "output_type": "display_data",
          "data": {
            "text/plain": [
              "<Figure size 1008x288 with 5 Axes>"
            ],
            "image/png": "[encoded data removed]"
          },
          "metadata": {
            "needs_background": "light"
          }
        }
      ]
    },
    {
      "cell_type": "code",
      "source": [
        "from sklearn.model_selection import train_test_split\n",
        "x_treino,x_teste,y_treino,y_teste, = train_test_split(digitos.data,digitos.target,test_size=0.25,random_state=0)\n",
        "\n",
        "from sklearn.linear_model import LogisticRegression\n",
        "from sklearn.pipeline import make_pipeline\n",
        "from sklearn.preprocessing import StandardScaler\n",
        "\n",
        "pipe = make_pipeline(StandardScaler(),LogisticRegression())\n",
        "pipe.fit(x_treino,y_treino)\n"
      ],
      "metadata": {
        "colab": {
          "base_uri": "https://localhost:8080/"
        },
        "id": "tjfWHZBS993G",
        "outputId": "01b21a0a-82d5-4f21-ceb8-c065a1dc4b88"
      },
      "execution_count": 5,
      "outputs": [
        {
          "output_type": "execute_result",
          "data": {
            "text/plain": [
              "Pipeline(steps=[('standardscaler', StandardScaler()),\n",
              "                ('logisticregression', LogisticRegression())])"
            ]
          },
          "metadata": {},
          "execution_count": 5
        }
      ]
    },
    {
      "cell_type": "code",
      "source": [
        "previsto = pipe.predict(x_teste[0].reshape(1,-1))\n",
        "real = y_teste[0]\n",
        "print('previsto: {};  real: {}'.format(previsto[0], real))"
      ],
      "metadata": {
        "colab": {
          "base_uri": "https://localhost:8080/"
        },
        "id": "LuR8ivvq_qBm",
        "outputId": "52aee68c-113c-4d62-abf1-e66e8418d9cb"
      },
      "execution_count": 7,
      "outputs": [
        {
          "output_type": "stream",
          "name": "stdout",
          "text": [
            "previsto: 2;  real: 2\n"
          ]
        }
      ]
    }
  ]
}