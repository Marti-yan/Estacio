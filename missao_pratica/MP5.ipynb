{
  "nbformat": 4,
  "nbformat_minor": 0,
  "metadata": {
    "colab": {
      "provenance": []
    },
    "kernelspec": {
      "name": "python3",
      "display_name": "Python 3"
    },
    "language_info": {
      "name": "python"
    }
  },
  "cells": [
    {
      "cell_type": "markdown",
      "source": [
        "![logo_estacio.jpeg](data:image/jpeg;base64,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)"
      ],
      "metadata": {
        "id": "BpUSYlH3odXU"
      }
    },
    {
      "cell_type": "markdown",
      "source": [
        "---\n",
        "Campus: Cabo Frio - RJ;\n",
        "---\n",
        "---\n",
        "Turma: 22.3 - 1º Semestre;\\\n",
        "Materia: Nível 5 colocando tudo em ordem e guardando;\\\n",
        "Aluno: Yan Martins Lourenço Fraga;\\\n",
        "Matricula: 202211246051\\\n",
        "Missão Pratica 5!"
      ],
      "metadata": {
        "id": "YMAc6oE7olj_"
      }
    },
    {
      "cell_type": "markdown",
      "source": [
        "\n",
        "\n",
        "---\n",
        "# **'---------------- /Instalações\\ ----------------'**\n"
      ],
      "metadata": {
        "id": "THOQ9pYPsJd6"
      }
    },
    {
      "cell_type": "code",
      "execution_count": null,
      "metadata": {
        "id": "I7ngXm457lnb"
      },
      "outputs": [],
      "source": [
        "!pip install faker"
      ]
    },
    {
      "cell_type": "code",
      "source": [
        "!pip install wordcloud"
      ],
      "metadata": {
        "id": "mfvWR2n4rjws"
      },
      "execution_count": null,
      "outputs": []
    },
    {
      "cell_type": "code",
      "source": [
        "!pip install num2words"
      ],
      "metadata": {
        "id": "4WQpnArXswsF"
      },
      "execution_count": null,
      "outputs": []
    },
    {
      "cell_type": "markdown",
      "source": [
        "---\n",
        "# **'---------------- /Importações & Variaveis\\ ----------------'**"
      ],
      "metadata": {
        "id": "KN6ctuNi9EFT"
      }
    },
    {
      "cell_type": "code",
      "source": [
        "from faker import Faker\n",
        "from wordcloud import WordCloud\n",
        "from num2words import num2words\n",
        "import matplotlib.pyplot as plt\n",
        "import re"
      ],
      "metadata": {
        "id": "L2E_WafetCKz"
      },
      "execution_count": 43,
      "outputs": []
    },
    {
      "cell_type": "code",
      "source": [
        "dados = []\n",
        "numeros_str = []\n",
        "numeros_int = []\n",
        "numeros_extenso = []"
      ],
      "metadata": {
        "id": "myxYHlgOuBmx"
      },
      "execution_count": 86,
      "outputs": []
    },
    {
      "cell_type": "markdown",
      "source": [
        "---\n",
        "# **'---------------- /FAKER\\ ----------------'**\n",
        "\n",
        "1º Objetivo"
      ],
      "metadata": {
        "id": "TfEQ0ZWRtrnx"
      }
    },
    {
      "cell_type": "code",
      "source": [
        "fake = Faker('pt_BR')"
      ],
      "metadata": {
        "id": "YJqXMlWkwWRi"
      },
      "execution_count": 87,
      "outputs": []
    },
    {
      "cell_type": "markdown",
      "source": [
        "### Gerar os dados para por no arquivo"
      ],
      "metadata": {
        "id": "kTR3S-bgzy5s"
      }
    },
    {
      "cell_type": "code",
      "source": [
        "for i in range(10):\n",
        "  dado = ('Nome: ' + fake.name() + ' / Nota: ' + str(fake.random_int(0,10)))\n",
        "  dados.append(dado)\n",
        "\n",
        "print(dados)"
      ],
      "metadata": {
        "colab": {
          "base_uri": "https://localhost:8080/"
        },
        "id": "z5PU4z7Nw4Bp",
        "outputId": "36a2f2a0-0953-4f34-d0c9-4b81360e2045"
      },
      "execution_count": 88,
      "outputs": [
        {
          "output_type": "stream",
          "name": "stdout",
          "text": [
            "['Nome: Brenda Almeida / Nota: 5', 'Nome: Isabelly Caldeira / Nota: 4', 'Nome: Sra. Carolina Moreira / Nota: 9', 'Nome: Giovanna Santos / Nota: 5', 'Nome: Sr. Bernardo Araújo / Nota: 3', 'Nome: Heloísa Ribeiro / Nota: 4', 'Nome: Juan Caldeira / Nota: 0', 'Nome: Lavínia das Neves / Nota: 4', 'Nome: Cecília da Conceição / Nota: 6', 'Nome: Isabella Ribeiro / Nota: 2']\n"
          ]
        }
      ]
    },
    {
      "cell_type": "markdown",
      "source": [
        "\n",
        "\n",
        "---\n",
        "\n",
        "# '-------------**/Edição do arquivo e tratamento dos dados\\**-------------'\n",
        "\n",
        "\n",
        "2º Objetivo\n",
        " "
      ],
      "metadata": {
        "id": "AFsvYpUs2gmz"
      }
    },
    {
      "cell_type": "markdown",
      "source": [
        "\n",
        "\n",
        "---\n",
        "\n",
        "\n",
        "### Escrever no arquivos os dados acima"
      ],
      "metadata": {
        "id": "bv6koj3o2N-T"
      }
    },
    {
      "cell_type": "code",
      "source": [
        "file = open('dados.txt','w+')\n",
        "\n",
        "for dado in range(len(dados)):\n",
        "  print(dados[dado])\n",
        "  file.write(dados[dado]+'\\n')\n",
        "\n",
        "file.close()"
      ],
      "metadata": {
        "id": "9WdvJgZX2NG6",
        "colab": {
          "base_uri": "https://localhost:8080/"
        },
        "outputId": "bbf2526a-ced7-4871-9948-e108e1809709"
      },
      "execution_count": 89,
      "outputs": [
        {
          "output_type": "stream",
          "name": "stdout",
          "text": [
            "Nome: Brenda Almeida / Nota: 5\n",
            "Nome: Isabelly Caldeira / Nota: 4\n",
            "Nome: Sra. Carolina Moreira / Nota: 9\n",
            "Nome: Giovanna Santos / Nota: 5\n",
            "Nome: Sr. Bernardo Araújo / Nota: 3\n",
            "Nome: Heloísa Ribeiro / Nota: 4\n",
            "Nome: Juan Caldeira / Nota: 0\n",
            "Nome: Lavínia das Neves / Nota: 4\n",
            "Nome: Cecília da Conceição / Nota: 6\n",
            "Nome: Isabella Ribeiro / Nota: 2\n"
          ]
        }
      ]
    },
    {
      "cell_type": "markdown",
      "source": [
        "\n",
        "\n",
        "---\n",
        "\n",
        "\n",
        "### Abrir e ler os dados do arquivo"
      ],
      "metadata": {
        "id": "AohzzfN63JBN"
      }
    },
    {
      "cell_type": "code",
      "source": [
        "file = open('dados.txt')\n",
        "lista=file.read().splitlines()\n",
        "print(lista)"
      ],
      "metadata": {
        "colab": {
          "base_uri": "https://localhost:8080/"
        },
        "id": "I6AN9mxvttpC",
        "outputId": "b801d098-398e-4d52-8c2a-e446c2002beb"
      },
      "execution_count": 90,
      "outputs": [
        {
          "output_type": "stream",
          "name": "stdout",
          "text": [
            "['Nome: Brenda Almeida / Nota: 5', 'Nome: Isabelly Caldeira / Nota: 4', 'Nome: Sra. Carolina Moreira / Nota: 9', 'Nome: Giovanna Santos / Nota: 5', 'Nome: Sr. Bernardo Araújo / Nota: 3', 'Nome: Heloísa Ribeiro / Nota: 4', 'Nome: Juan Caldeira / Nota: 0', 'Nome: Lavínia das Neves / Nota: 4', 'Nome: Cecília da Conceição / Nota: 6', 'Nome: Isabella Ribeiro / Nota: 2']\n"
          ]
        }
      ]
    },
    {
      "cell_type": "markdown",
      "source": [
        "# Tratamento dos dados\n",
        "Parte do 3º & 4º Objetivo"
      ],
      "metadata": {
        "id": "FArf7fAA2FTt"
      }
    },
    {
      "cell_type": "code",
      "source": [
        "\n",
        "for dado in lista:\n",
        "  txt = dado\n",
        "  txt = re.sub('[^0-9]','',txt)\n",
        "  numeros_str.append(txt)\n",
        "  numeros_int.append(int(txt))\n",
        "  numeros_extenso.append(num2words(txt , lang='pt-br'))\n",
        "\n",
        "print(numeros_str)\n",
        "print(numeros_int)\n",
        "print(numeros_extenso)"
      ],
      "metadata": {
        "colab": {
          "base_uri": "https://localhost:8080/"
        },
        "id": "LDO-T2tDuehz",
        "outputId": "9fd8d4d3-4a72-4ba5-f210-8cff74230b20"
      },
      "execution_count": 91,
      "outputs": [
        {
          "output_type": "stream",
          "name": "stdout",
          "text": [
            "['5', '4', '9', '5', '3', '4', '0', '4', '6', '2']\n",
            "[5, 4, 9, 5, 3, 4, 0, 4, 6, 2]\n",
            "['cinco', 'quatro', 'nove', 'cinco', 'três', 'quatro', 'zero', 'quatro', 'seis', 'dois']\n"
          ]
        }
      ]
    },
    {
      "cell_type": "markdown",
      "source": [
        "\n",
        "\n",
        "---\n",
        "\n",
        "# **'----------/HISTOGRAMA\\----------'**\n",
        "Objetivo 3: Final"
      ],
      "metadata": {
        "id": "RiY1wAaM6W8d"
      }
    },
    {
      "cell_type": "code",
      "source": [
        "plt.hist(numeros_int,density=True,facecolor='blue')\n",
        "plt.xlabel('Pontuações')\n",
        "plt.ylabel('Probabilidade')\n",
        "plt.title('Histograma dos valores')\n",
        "plt.grid(True)\n",
        "plt.show()"
      ],
      "metadata": {
        "colab": {
          "base_uri": "https://localhost:8080/",
          "height": 295
        },
        "id": "xKgi62LB5j-Z",
        "outputId": "7511978a-bc11-47cc-c576-a1090d79f16a"
      },
      "execution_count": 92,
      "outputs": [
        {
          "output_type": "display_data",
          "data": {
            "text/plain": [
              "<Figure size 432x288 with 1 Axes>"
            ],
            "image/png": "[encoded data removed]"
          },
          "metadata": {
            "needs_background": "light"
          }
        }
      ]
    },
    {
      "cell_type": "markdown",
      "source": [
        "---\n",
        "\n",
        "# **'----------/NUVEM DE PALAVRAS\\----------'**\n",
        "Objetivo 4: Final"
      ],
      "metadata": {
        "id": "x2IX_g6F6vhd"
      }
    },
    {
      "cell_type": "code",
      "source": [
        "texto = (',').join(numeros_extenso)\n",
        "nuvem_palavras = WordCloud(background_color='grey',width=800,height=400).generate(texto)\n",
        "plt.imshow(nuvem_palavras, interpolation='bilinear')\n",
        "plt.axis(\"off\")\n",
        "nuvem_palavras.to_file(\"Nuvem de palavras.png\")"
      ],
      "metadata": {
        "colab": {
          "base_uri": "https://localhost:8080/",
          "height": 215
        },
        "id": "j4rVaXP16zdK",
        "outputId": "f975b927-269d-43ac-fe5f-e14e7aacdc45"
      },
      "execution_count": 93,
      "outputs": [
        {
          "output_type": "execute_result",
          "data": {
            "text/plain": [
              "<wordcloud.wordcloud.WordCloud at 0x7f0009113390>"
            ]
          },
          "metadata": {},
          "execution_count": 93
        },
        {
          "output_type": "display_data",
          "data": {
            "text/plain": [
              "<Figure size 432x288 with 1 Axes>"
            ],
            "image/png": "[encoded data removed]"
          },
          "metadata": {
            "needs_background": "light"
          }
        }
      ]
    }
  ]
}